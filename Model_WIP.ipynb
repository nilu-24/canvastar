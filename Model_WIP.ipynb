{
  "nbformat": 4,
  "nbformat_minor": 0,
  "metadata": {
    "colab": {
      "name": "Model - WIP",
      "provenance": [],
      "collapsed_sections": []
    },
    "kernelspec": {
      "name": "python3",
      "display_name": "Python 3"
    },
    "language_info": {
      "name": "python"
    }
  },
  "cells": [
    {
      "cell_type": "markdown",
      "metadata": {
        "id": "r1mCyVsr_3gv"
      },
      "source": [
        "# Constellation Classifier\n",
        "By Fardin Abdullah, Nicholas Foisy, Japmann Sarin"
      ]
    },
    {
      "cell_type": "code",
      "metadata": {
        "id": "5GEON873q4eA",
        "colab": {
          "base_uri": "https://localhost:8080/"
        },
        "outputId": "67090a08-ee83-4412-d3e8-e02fd60c0cc2"
      },
      "source": [
        "import numpy as np \n",
        "import pandas as pd  \n",
        "import os \n",
        "from pathlib import Path \n",
        "import glob\n",
        "\n",
        "import seaborn as sns \n",
        "import matplotlib.pyplot as plt \n",
        "\n",
        "import tensorflow as tf  \n",
        "from tensorflow.keras import layers\n",
        "from tensorflow.keras import Model  \n",
        "from tensorflow.keras.optimizers import RMSprop\n",
        "from keras_preprocessing.image import ImageDataGenerator\n",
        "\n",
        "\n",
        "from tensorflow.keras.optimizers import Adam\n",
        "from tensorflow.keras.layers import Conv2D, MaxPooling2D, Flatten, Dense, Dropout\n",
        "from tensorflow.keras.models import Sequential\n",
        "from tensorflow.keras.callbacks import EarlyStopping, ModelCheckpoint\n",
        "\n",
        "from tensorflow.keras.applications.resnet50 import preprocess_input, decode_predictions\n",
        "from tensorflow.keras.preprocessing import image\n",
        "\n",
        "from sklearn.metrics import accuracy_score\n",
        "from sklearn.metrics import confusion_matrix, ConfusionMatrixDisplay\n",
        "\n",
        "\n",
        "\n",
        "from google.colab import drive\n",
        "\n",
        "drive.mount('/content/gdrive')"
      ],
      "execution_count": null,
      "outputs": [
        {
          "output_type": "stream",
          "name": "stdout",
          "text": [
            "Mounted at /content/gdrive\n"
          ]
        }
      ]
    },
    {
      "cell_type": "markdown",
      "metadata": {
        "id": "K_nDcZIgA0PN"
      },
      "source": [
        "## Defining important variables"
      ]
    },
    {
      "cell_type": "code",
      "metadata": {
        "id": "LVVzJ-TbCbTM"
      },
      "source": [
        "#defining list of labels\n",
        "input_list = [\"Aquarius\", \"Aries\", \"Cancer\", \"Canis Major\", \"Cassiopeia\", \"Cygnus\", \"Leo\", \"Lyra\", \"Orion\", \"Pisces\", \"Scorpius\", \"Taurus\", \"Ursa_Minor\", \"Virgo\"]\n",
        "input_num = [i for i in range(len(input_list))]\n",
        "\n",
        "#defining important parameters\n",
        "pixel_count = 128 # this will be the size we change input images to to feed into the model\n",
        "\n",
        "#this is where the data for the model will be selected\n",
        "train_folder_path = Path('/content/gdrive/MyDrive/ConstellationClassifier/Dataset/Model_Data/Train')\n",
        "test_path = Path('/content/gdrive/MyDrive/ConstellationClassifier/Dataset/Model_Data/Test')"
      ],
      "execution_count": null,
      "outputs": []
    },
    {
      "cell_type": "code",
      "metadata": {
        "id": "ktzkzEvwH39k"
      },
      "source": [
        "#In total, there are samples of images across 9 classes\n",
        "\n",
        "#we can probably use a loop at some point to do this more concisely\n",
        "\n",
        "aqu_path = Path('/content/gdrive/MyDrive/ConstellationClassifier/Dataset/Model_Data/Train/Aquarius')\n",
        "ari_path = Path('/content/gdrive/MyDrive/ConstellationClassifier/Dataset/Model_Data/Train/Aries')\n",
        "can_path = Path('/content/gdrive/MyDrive/ConstellationClassifier/Dataset/Model_Data/Train/Cancer')\n",
        "cma_path = Path('/content/gdrive/MyDrive/ConstellationClassifier/Dataset/Model_Data/Train/Canis_Major')\n",
        "cas_path = Path('/content/gdrive/MyDrive/ConstellationClassifier/Dataset/Model_Data/Train/Cassiopeia')\n",
        "cyg_path = Path('/content/gdrive/MyDrive/ConstellationClassifier/Dataset/Model_Data/Train/Cygnus')\n",
        "leo_path = Path('/content/gdrive/MyDrive/ConstellationClassifier/Dataset/Model_Data/Train/Leo')\n",
        "lyr_path = Path('/content/gdrive/MyDrive/ConstellationClassifier/Dataset/Model_Data/Train/Lyra')\n",
        "ori_path = Path('/content/gdrive/MyDrive/ConstellationClassifier/Dataset/Model_Data/Train/Orion')\n",
        "pis_path = Path('/content/gdrive/MyDrive/ConstellationClassifier/Dataset/Model_Data/Train/Pisces')\n",
        "sco_path = Path('/content/gdrive/MyDrive/ConstellationClassifier/Dataset/Model_Data/Train/Scorpius')\n",
        "tau_path = Path('/content/gdrive/MyDrive/ConstellationClassifier/Dataset/Model_Data/Train/Taurus')\n",
        "umi_path = Path('/content/gdrive/MyDrive/ConstellationClassifier/Dataset/Model_Data/Train/Ursa_Minor')\n",
        "vir_path = Path('/content/gdrive/MyDrive/ConstellationClassifier/Dataset/Model_Data/Train/Virgo')\n",
        "\n",
        "\n",
        "aqu_images = aqu_path.glob('*.jpg')\n",
        "ari_images = ari_path.glob('*.jpg')\n",
        "can_images = can_path.glob('*.jpg')\n",
        "cma_images = cma_path.glob('*.jpg')\n",
        "cas_images = cas_path.glob('*.jpg')\n",
        "cyg_images = cyg_path.glob('*.jpg')\n",
        "pis_images = pis_path.glob('*.jpg')\n",
        "sco_images = sco_path.glob('*.jpg')\n",
        "umi_images = umi_path.glob('*.jpg')\n",
        "tau_images = tau_path.glob('*.jpg')\n",
        "leo_images = leo_path.glob('*.jpg')\n",
        "ori_images = ori_path.glob('*.jpg')\n",
        "vir_images = vir_path.glob('*.jpg')\n",
        "lyr_images = lyr_path.glob('*.jpg')\n",
        "\n",
        "images_list_train = [aqu_images, ari_images, can_images, cma_images, cas_images, cyg_images, leo_images, lyr_images, ori_images, pis_images, sco_images, tau_images, umi_images, vir_images]\n",
        "\n",
        "\n",
        "\n",
        "aqu_path_test = Path('/content/gdrive/MyDrive/ConstellationClassifier/Dataset/Model_Data/Test/Aquarius')\n",
        "ari_path_test = Path('/content/gdrive/MyDrive/ConstellationClassifier/Dataset/Model_Data/Test/Aries')\n",
        "can_path_test = Path('/content/gdrive/MyDrive/ConstellationClassifier/Dataset/Model_Data/Test/Cancer')\n",
        "cma_path_test = Path('/content/gdrive/MyDrive/ConstellationClassifier/Dataset/Model_Data/Test/Canis_Major')\n",
        "cas_path_test = Path('/content/gdrive/MyDrive/ConstellationClassifier/Dataset/Model_Data/Test/Cassiopeia')\n",
        "cyg_path_test = Path('/content/gdrive/MyDrive/ConstellationClassifier/Dataset/Model_Data/Test/Cygnus')\n",
        "leo_path_test = Path('/content/gdrive/MyDrive/ConstellationClassifier/Dataset/Model_Data/Test/Leo')\n",
        "lyr_path_test = Path('/content/gdrive/MyDrive/ConstellationClassifier/Dataset/Model_Data/Test/Lyra')\n",
        "ori_path_test = Path('/content/gdrive/MyDrive/ConstellationClassifier/Dataset/Model_Data/Test/Orion')\n",
        "pis_path_test = Path('/content/gdrive/MyDrive/ConstellationClassifier/Dataset/Model_Data/Test/Pisces')\n",
        "sco_path_test = Path('/content/gdrive/MyDrive/ConstellationClassifier/Dataset/Model_Data/Test/Scorpius')\n",
        "tau_path_test = Path('/content/gdrive/MyDrive/ConstellationClassifier/Dataset/Model_Data/Test/Taurus')\n",
        "umi_path_test = Path('/content/gdrive/MyDrive/ConstellationClassifier/Dataset/Model_Data/Test/Ursa_Minor')\n",
        "vir_path_test = Path('/content/gdrive/MyDrive/ConstellationClassifier/Dataset/Model_Data/Test/Virgo')\n",
        "\n",
        "\n",
        "aqu_images_test = aqu_path_test.glob('*.jpg')\n",
        "ari_images_test = ari_path_test.glob('*.jpg')\n",
        "can_images_test = can_path_test.glob('*.jpg')\n",
        "cma_images_test = cma_path_test.glob('*.jpg')\n",
        "cas_images_test = cas_path_test.glob('*.jpg')\n",
        "cyg_images_test = cyg_path_test.glob('*.jpg')\n",
        "pis_images_test = pis_path_test.glob('*.jpg')\n",
        "sco_images_test = sco_path_test.glob('*.jpg')\n",
        "umi_images_test = umi_path_test.glob('*.jpg')\n",
        "tau_images_test = tau_path_test.glob('*.jpg')\n",
        "leo_images_test = leo_path_test.glob('*.jpg')\n",
        "ori_images_test = ori_path_test.glob('*.jpg')\n",
        "vir_images_test = vir_path_test.glob('*.jpg')\n",
        "lyr_images_test = lyr_path_test.glob('*.jpg')\n",
        "\n",
        "\n",
        "\n",
        "#test_csv\n",
        "\n",
        "\n",
        "def make_csv_with_image_labels(images_list, labels_list):\n",
        "    df = []\n",
        "    for i in range(len(images_list)):\n",
        "      for image in images_list[i]:\n",
        "        df.append((image, i)) # adding each image of each class in dataframe df with corresponding class label 0, 1, 2, 3, 4\n",
        "    df = pd.DataFrame(df, columns=[\"image_path\", \"label\"], index = None) # converting into dataframe \n",
        "    df = df.sample(frac = 1).reset_index(drop=True) \n",
        "    return df  \n",
        "\n",
        "\n",
        "images_list_test = [aqu_images_test, ari_images_test, can_images_test, cma_images_test, cas_images_test, cyg_images_test, leo_images_test, lyr_images_test, ori_images_test, pis_images_test, sco_images_test, tau_images_test, umi_images_test, vir_images_test]\n",
        "\n",
        "\n",
        "test_csv = make_csv_with_image_labels(images_list_test,input_num)"
      ],
      "execution_count": null,
      "outputs": []
    },
    {
      "cell_type": "code",
      "metadata": {
        "colab": {
          "base_uri": "https://localhost:8080/",
          "height": 508
        },
        "id": "FsiNr6ZeAuOx",
        "outputId": "c6c5f201-b47b-4631-b9b4-26926242f552"
      },
      "source": [
        "#pretty visualization of train dataset\n",
        "\n",
        "train_csv = make_csv_with_image_labels(images_list_train, input_num) #outputs a dataframe with the image path of every image in classes 0 to 4 as well as their class number\n",
        "train_csv.head()\n",
        "#train_csv.iloc[0]['image_path'] #example of path stored\n",
        "\n",
        "lengths = np.empty(len(input_list))\n",
        "sum_data=0\n",
        "for num in input_num:\n",
        "  lengths[num] = len(train_csv[\"label\"][train_csv.label == num]) + len(test_csv[\"label\"][test_csv.label == num])\n",
        "  sum_data+=lengths[num]\n",
        "  print(\"num of\", input_list[num], \"samples:\", lengths[num])\n",
        "\n",
        "print(\"total number of training images:\", sum_data)\n",
        "plt.pie(lengths, labels=input_list, shadow=False) \n",
        "plt.show()"
      ],
      "execution_count": null,
      "outputs": [
        {
          "output_type": "stream",
          "name": "stdout",
          "text": [
            "num of Aquarius samples: 100.0\n",
            "num of Aries samples: 101.0\n",
            "num of Cancer samples: 151.0\n",
            "num of Canis Major samples: 111.0\n",
            "num of Cassiopeia samples: 103.0\n",
            "num of Cygnus samples: 104.0\n",
            "num of Leo samples: 82.0\n",
            "num of Lyra samples: 100.0\n",
            "num of Orion samples: 112.0\n",
            "num of Pisces samples: 101.0\n",
            "num of Scorpius samples: 106.0\n",
            "num of Taurus samples: 100.0\n",
            "num of Ursa_Minor samples: 96.0\n",
            "num of Virgo samples: 89.0\n",
            "total number of training images: 1456.0\n"
          ]
        },
        {
          "output_type": "display_data",
          "data": {
            "image/png": "[encoded data removed]",
            "text/plain": [
              "<Figure size 432x288 with 1 Axes>"
            ]
          },
          "metadata": {}
        }
      ]
    },
    {
      "cell_type": "markdown",
      "metadata": {
        "id": "Nm5EJ3v5BBPp"
      },
      "source": [
        "## Data preprocessing"
      ]
    },
    {
      "cell_type": "code",
      "metadata": {
        "id": "62Xue_iK_F7s"
      },
      "source": [
        "X_train = [] #converting images to numpy arrays\n",
        "for i in train_csv['image_path']:\n",
        "  img = image.load_img(i, target_size=(400, 400), color_mode='grayscale')\n",
        "  img = img.resize((pixel_count,pixel_count))\n",
        "  img = np.asarray(img)\n",
        "  img = img/255\n",
        "  X_train.append(img)\n",
        "X_train = np.array(X_train)\n",
        "\n",
        "#labels \n",
        "y_train = []\n",
        "\n",
        "for i in train_csv['label']:\n",
        "  y_train.append(i)\n",
        "\n",
        "y_train = np.array(y_train)\n"
      ],
      "execution_count": null,
      "outputs": []
    },
    {
      "cell_type": "code",
      "metadata": {
        "id": "kBbOf7DHWDa1"
      },
      "source": [
        "#X_test\n",
        "X_test = []\n",
        "for i in test_csv['image_path']:\n",
        "  img = image.load_img(i, target_size=(400, 400), color_mode='grayscale')\n",
        "  img = img.resize((pixel_count,pixel_count))\n",
        "  img = np.asarray(img)\n",
        "  img = img/255\n",
        "  X_test.append(img)\n",
        "X_test = np.array(X_test)\n",
        "\n",
        "#y_test\n",
        "y_test = []\n",
        "\n",
        "for i in test_csv['label']:\n",
        "  y_test.append(i)\n",
        "\n",
        "y_test = np.array(y_test)\n",
        "\n",
        "\n"
      ],
      "execution_count": null,
      "outputs": []
    },
    {
      "cell_type": "markdown",
      "metadata": {
        "id": "Q78cGiIGBGJ3"
      },
      "source": [
        "## Building the Convolutional Neural Network"
      ]
    },
    {
      "cell_type": "code",
      "metadata": {
        "id": "tq_0U70GrFri"
      },
      "source": [
        "cnn = Sequential([\n",
        "                  \n",
        "\n",
        "    layers.Conv2D(filters=32, kernel_size=(3, 3), activation='relu', input_shape=(128, 128, 1), padding='valid',strides=(1,1)),\n",
        "    \n",
        "    layers.Conv2D(filters=32, kernel_size=(3, 3), activation='relu',padding='valid',strides=(1,1)),    \n",
        "    layers.MaxPooling2D((2, 2),padding='valid',strides=None),\n",
        "    layers.Dropout(0.25),\n",
        "\n",
        "    layers.Conv2D(filters=64, kernel_size=(3, 3), activation='relu',padding='valid',strides=(1,1)),    \n",
        "    layers.MaxPooling2D((2, 2),padding='valid',strides=None),\n",
        "    layers.Dropout(0.25),\n",
        "\n",
        "    \n",
        "    #nick japmann adding 4th layer\n",
        "    \n",
        "    Conv2D(filters=128, kernel_size=(3,3), activation='relu', padding='valid',strides=(1,1)),\n",
        "    layers.Dropout(0.25),\n",
        "    \n",
        "    layers.Conv2D(filters=256, kernel_size=(3, 3), activation='relu',padding='valid',strides=(1,1)),\n",
        "    layers.MaxPooling2D((2, 2),padding='valid',strides=None),\n",
        "    layers.Dropout(0.5),\n",
        "    \n",
        "    layers.Flatten(),\n",
        "    layers.Dense(512, activation='relu'),\n",
        "    layers.Dropout(0.5),\n",
        "    \n",
        "    layers.Dense(128, activation='relu'),\n",
        "    layers.Dropout(0.5),\n",
        "    layers.Dense(14, activation='softmax')\n",
        "  \n",
        "])"
      ],
      "execution_count": null,
      "outputs": []
    },
    {
      "cell_type": "code",
      "metadata": {
        "id": "5hb3hLrZrThO"
      },
      "source": [
        "cnn.compile(optimizer='adam',\n",
        "              loss='sparse_categorical_crossentropy',\n",
        "              metrics=['accuracy'])"
      ],
      "execution_count": null,
      "outputs": []
    },
    {
      "cell_type": "markdown",
      "metadata": {
        "id": "-gWbbdO0Bs6l"
      },
      "source": [
        "## Training the model"
      ]
    },
    {
      "cell_type": "code",
      "metadata": {
        "colab": {
          "base_uri": "https://localhost:8080/"
        },
        "id": "BxsBNkzzrcPb",
        "outputId": "ed0da3c9-183b-4413-bde0-2b1115a39231"
      },
      "source": [
        "cnn.fit(X_train, y_train, epochs=30)"
      ],
      "execution_count": null,
      "outputs": [
        {
          "output_type": "stream",
          "name": "stdout",
          "text": [
            "Epoch 1/30\n",
            "35/35 [==============================] - 83s 2s/step - loss: 2.6977 - accuracy: 0.0814\n",
            "Epoch 2/30\n",
            "35/35 [==============================] - 82s 2s/step - loss: 2.6322 - accuracy: 0.1103\n",
            "Epoch 3/30\n",
            "35/35 [==============================] - 82s 2s/step - loss: 2.6343 - accuracy: 0.1139\n",
            "Epoch 4/30\n",
            "35/35 [==============================] - 82s 2s/step - loss: 2.6308 - accuracy: 0.1139\n",
            "Epoch 5/30\n",
            "35/35 [==============================] - 82s 2s/step - loss: 2.6292 - accuracy: 0.1121\n",
            "Epoch 6/30\n",
            "35/35 [==============================] - 82s 2s/step - loss: 2.6263 - accuracy: 0.1130\n",
            "Epoch 7/30\n",
            "35/35 [==============================] - 82s 2s/step - loss: 2.6282 - accuracy: 0.1139\n",
            "Epoch 8/30\n",
            "35/35 [==============================] - 82s 2s/step - loss: 2.6275 - accuracy: 0.1139\n",
            "Epoch 9/30\n",
            "35/35 [==============================] - 83s 2s/step - loss: 2.6279 - accuracy: 0.1139\n",
            "Epoch 10/30\n",
            "35/35 [==============================] - 83s 2s/step - loss: 2.5914 - accuracy: 0.1175\n",
            "Epoch 11/30\n",
            "35/35 [==============================] - 83s 2s/step - loss: 1.9462 - accuracy: 0.3852\n",
            "Epoch 12/30\n",
            "35/35 [==============================] - 83s 2s/step - loss: 1.3764 - accuracy: 0.5823\n",
            "Epoch 13/30\n",
            "35/35 [==============================] - 82s 2s/step - loss: 1.1297 - accuracy: 0.6664\n",
            "Epoch 14/30\n",
            "35/35 [==============================] - 82s 2s/step - loss: 0.9254 - accuracy: 0.7333\n",
            "Epoch 15/30\n",
            "35/35 [==============================] - 82s 2s/step - loss: 0.7586 - accuracy: 0.7866\n",
            "Epoch 16/30\n",
            "35/35 [==============================] - 82s 2s/step - loss: 0.5663 - accuracy: 0.8327\n",
            "Epoch 17/30\n",
            "35/35 [==============================] - 82s 2s/step - loss: 0.4299 - accuracy: 0.8580\n",
            "Epoch 18/30\n",
            "35/35 [==============================] - 82s 2s/step - loss: 0.3371 - accuracy: 0.9014\n",
            "Epoch 19/30\n",
            "35/35 [==============================] - 82s 2s/step - loss: 0.3206 - accuracy: 0.9042\n",
            "Epoch 20/30\n",
            "35/35 [==============================] - 82s 2s/step - loss: 0.2398 - accuracy: 0.9295\n",
            "Epoch 21/30\n",
            "35/35 [==============================] - 82s 2s/step - loss: 0.2135 - accuracy: 0.9304\n",
            "Epoch 22/30\n",
            "35/35 [==============================] - 82s 2s/step - loss: 0.1688 - accuracy: 0.9485\n",
            "Epoch 23/30\n",
            "35/35 [==============================] - 82s 2s/step - loss: 0.1441 - accuracy: 0.9566\n",
            "Epoch 24/30\n",
            "35/35 [==============================] - 82s 2s/step - loss: 0.1229 - accuracy: 0.9656\n",
            "Epoch 25/30\n",
            "35/35 [==============================] - 82s 2s/step - loss: 0.1015 - accuracy: 0.9675\n",
            "Epoch 26/30\n",
            "35/35 [==============================] - 82s 2s/step - loss: 0.0815 - accuracy: 0.9720\n",
            "Epoch 27/30\n",
            "35/35 [==============================] - 82s 2s/step - loss: 0.0859 - accuracy: 0.9774\n",
            "Epoch 28/30\n",
            "35/35 [==============================] - 82s 2s/step - loss: 0.0986 - accuracy: 0.9629\n",
            "Epoch 29/30\n",
            "35/35 [==============================] - 82s 2s/step - loss: 0.0666 - accuracy: 0.9819\n",
            "Epoch 30/30\n",
            "35/35 [==============================] - 82s 2s/step - loss: 0.0887 - accuracy: 0.9711\n"
          ]
        },
        {
          "output_type": "execute_result",
          "data": {
            "text/plain": [
              "<keras.callbacks.History at 0x7fb115779090>"
            ]
          },
          "metadata": {},
          "execution_count": 9
        }
      ]
    },
    {
      "cell_type": "code",
      "metadata": {
        "id": "01nel4nIL_17"
      },
      "source": [
        "#saving the model\n",
        "cnn.save('./CNN_cnn.h5')"
      ],
      "execution_count": null,
      "outputs": []
    },
    {
      "cell_type": "markdown",
      "metadata": {
        "id": "mUk-XPgqB3tk"
      },
      "source": [
        "##Testing the model"
      ]
    },
    {
      "cell_type": "code",
      "metadata": {
        "id": "UUvTLd3KW0lv",
        "colab": {
          "base_uri": "https://localhost:8080/"
        },
        "outputId": "2a1e0005-7970-47fb-efa5-36c68a30dc8e"
      },
      "source": [
        "from tensorflow import keras\n",
        "\n",
        "#y_pred\n",
        "y_pred = []\n",
        "outputs = cnn.predict(X_test)\n",
        "\n",
        "for output in outputs:\n",
        "  y_pred.append(np.argmax(output))\n",
        "\n",
        "print(\"Accuracy of CNN model on testing dataset\", accuracy_score(y_test, y_pred))\n",
        "\n"
      ],
      "execution_count": null,
      "outputs": [
        {
          "output_type": "stream",
          "name": "stdout",
          "text": [
            "Accuracy of CNN model on testing dataset 0.9171428571428571\n"
          ]
        }
      ]
    },
    {
      "cell_type": "code",
      "metadata": {
        "id": "ZtHNwSjG-FNM",
        "colab": {
          "base_uri": "https://localhost:8080/",
          "height": 272
        },
        "outputId": "54be6061-2d1e-4a59-c4b0-8c527af3035c"
      },
      "source": [
        "#confustion matrix\n",
        "cm = confusion_matrix(y_test, y_pred)\n",
        "\n",
        "disp = ConfusionMatrixDisplay(confusion_matrix=cm,display_labels=[\"\"])\n",
        "disp.plot()\n",
        "plt.show()\n"
      ],
      "execution_count": null,
      "outputs": [
        {
          "output_type": "display_data",
          "data": {
            "image/png": "[encoded data removed]",
            "text/plain": [
              "<Figure size 432x288 with 2 Axes>"
            ]
          },
          "metadata": {
            "needs_background": "light"
          }
        }
      ]
    },
    {
      "cell_type": "code",
      "metadata": {
        "id": "GvCRbPukky3s",
        "colab": {
          "base_uri": "https://localhost:8080/",
          "height": 36
        },
        "outputId": "fd261c26-b8b7-4d7a-c8dc-d72dddcbba77"
      },
      "source": [
        "input_list = [\"Aquarius\", \"Aries\", \"Cancer\", \"Canis Major\", \"Cassiopeia\", \"Cygnus\", \"Leo\", \"Lyra\", \"Orion\", \"Pisces\", \"Scorpius\", \"Taurus\", \"Ursa_Minor\", \"Virgo\"]\n",
        "input_list[7]"
      ],
      "execution_count": null,
      "outputs": [
        {
          "output_type": "execute_result",
          "data": {
            "application/vnd.google.colaboratory.intrinsic+json": {
              "type": "string"
            },
            "text/plain": [
              "'Lyra'"
            ]
          },
          "metadata": {},
          "execution_count": 13
        }
      ]
    },
    {
      "cell_type": "markdown",
      "metadata": {
        "id": "lD47NCiJBMvY"
      },
      "source": [
        "## Predicting constellation classes with input images"
      ]
    },
    {
      "cell_type": "code",
      "metadata": {
        "id": "m09-r5dSyjnC",
        "colab": {
          "base_uri": "https://localhost:8080/",
          "height": 303
        },
        "outputId": "d6f42f92-c86f-456c-a11d-321e70c3e965"
      },
      "source": [
        "#Attempting to predict Aquarius constellation\n",
        "\n",
        "aqu_test = \"/content/gdrive/MyDrive/ConstellationClassifier/Dataset/Model_Data/Predict/aqutest.jpg\"\n",
        "img_aqu = image.load_img(aqu_test, target_size=(400, 400), color_mode='grayscale')\n",
        "\n",
        "plt.imshow(img_aqu)\n",
        "img_aqu = img_aqu.resize((pixel_count,pixel_count))\n",
        "img_aqu= np.asarray(img_aqu)\n",
        "img_aqu = img_aqu/255\n",
        "img_aqu = img_aqu.reshape(1,pixel_count,pixel_count,1)\n",
        "print(np.argmax(cnn.predict(img_aqu))) #0th index is max so it is Aquarius\n",
        "\n",
        "print(input_list[np.argmax(cnn.predict(img_aqu))])\n",
        "\n",
        "\n"
      ],
      "execution_count": null,
      "outputs": [
        {
          "output_type": "stream",
          "name": "stdout",
          "text": [
            "0\n",
            "Aquarius\n"
          ]
        },
        {
          "output_type": "display_data",
          "data": {
            "image/png": "[encoded data removed]",
            "text/plain": [
              "<Figure size 432x288 with 1 Axes>"
            ]
          },
          "metadata": {
            "needs_background": "light"
          }
        }
      ]
    },
    {
      "cell_type": "code",
      "metadata": {
        "id": "EXID7vqw7uzr",
        "colab": {
          "base_uri": "https://localhost:8080/",
          "height": 303
        },
        "outputId": "fe3b1361-5c32-4709-d401-4be21a32203c"
      },
      "source": [
        "#Attempting to predict Aries constellation\n",
        "\n",
        "from tensorflow.keras.preprocessing import image\n",
        "\n",
        "\n",
        "ari_test = \"/content/gdrive/MyDrive/ConstellationClassifier/Dataset/Model_Data/Predict/ariestest.jpg\"\n",
        "img_ari = image.load_img(ari_test, target_size=(400, 400), color_mode='grayscale')\n",
        "\n",
        "plt.imshow(img_ari)\n",
        "img_ari = img_ari.resize((pixel_count,pixel_count))\n",
        "img_ari= np.asarray(img_ari)\n",
        "img_ari = img_ari/255\n",
        "img_ari = img_ari.reshape(1,pixel_count,pixel_count,1)\n",
        "print(np.argmax(cnn.predict(img_ari))) #0th index is max so it is Aquarius\n",
        "\n",
        "print(input_list[np.argmax(cnn.predict(img_ari))])"
      ],
      "execution_count": null,
      "outputs": [
        {
          "output_type": "stream",
          "name": "stdout",
          "text": [
            "1\n",
            "Aries\n"
          ]
        },
        {
          "output_type": "display_data",
          "data": {
            "image/png": "[encoded data removed]",
            "text/plain": [
              "<Figure size 432x288 with 1 Axes>"
            ]
          },
          "metadata": {
            "needs_background": "light"
          }
        }
      ]
    },
    {
      "cell_type": "code",
      "metadata": {
        "id": "KyI0-0NL9-l1",
        "colab": {
          "base_uri": "https://localhost:8080/",
          "height": 338
        },
        "outputId": "24ff4e9c-a95d-4ada-f8ad-a9e05507e7c1"
      },
      "source": [
        "#Attempting to predict Cancer constellation\n",
        "\n",
        "can_test = \"/content/gdrive/MyDrive/ConstellationClassifier/Dataset/Model_Data/Predict/cancertest.jpg\"\n",
        "img_can = image.load_img(can_test, target_size=(400, 400), color_mode='grayscale')\n",
        "\n",
        "plt.imshow(img_can)\n",
        "img_can = img_can.resize((pixel_count,pixel_count))\n",
        "img_can= np.asarray(img_can)\n",
        "img_can = img_can/255\n",
        "img_can = img_can.reshape(1,pixel_count,pixel_count,1)\n",
        "print((cnn.predict(img_can))) #0th index is max so it is Aquarius\n",
        "\n",
        "print(input_list[np.argmax(cnn.predict(img_can))])"
      ],
      "execution_count": null,
      "outputs": [
        {
          "output_type": "stream",
          "name": "stdout",
          "text": [
            "[[7.7151081e-12 2.1078121e-10 9.9978691e-01 4.2008197e-09 4.0846672e-08\n",
            "  1.0857970e-07 7.1815691e-08 3.2132311e-11 1.1766246e-11 5.8119325e-11\n",
            "  4.9227296e-11 6.0864259e-08 7.8342289e-08 2.1269127e-04]]\n",
            "Cancer\n"
          ]
        },
        {
          "output_type": "display_data",
          "data": {
            "image/png": "[encoded data removed]",
            "text/plain": [
              "<Figure size 432x288 with 1 Axes>"
            ]
          },
          "metadata": {
            "needs_background": "light"
          }
        }
      ]
    },
    {
      "cell_type": "code",
      "metadata": {
        "id": "6a4YkUkcb21z",
        "colab": {
          "base_uri": "https://localhost:8080/",
          "height": 338
        },
        "outputId": "2253fa34-12ac-44d0-87fe-798d8e0f1267"
      },
      "source": [
        "#Attempting to predict CanisMajor constellation\n",
        "\n",
        "cass_test = \"/content/gdrive/MyDrive/ConstellationClassifier/Dataset/Model_Data/Predict/canismajortest.jpg\"\n",
        "img_cass = image.load_img(cass_test, target_size=(400, 400), color_mode='grayscale')\n",
        "\n",
        "plt.imshow(img_cass)\n",
        "img_cass = img_cass.resize((pixel_count,pixel_count))\n",
        "img_cass= np.asarray(img_cass)\n",
        "img_cass = img_cass/255\n",
        "img_cass = img_cass.reshape(1,pixel_count,pixel_count,1)\n",
        "print((cnn.predict(img_cass))) #3rh index is max so it is cassiopeia\n",
        "\n",
        "print(input_list[np.argmax(cnn.predict(img_cass))])"
      ],
      "execution_count": null,
      "outputs": [
        {
          "output_type": "stream",
          "name": "stdout",
          "text": [
            "[[6.2254723e-05 2.1669444e-05 1.8554099e-05 9.9779701e-01 4.3331779e-06\n",
            "  5.0875944e-05 3.1337648e-04 3.4128525e-04 1.8469511e-04 8.3056020e-06\n",
            "  2.5409616e-05 1.4334817e-05 5.9744325e-06 1.1520075e-03]]\n",
            "Canis Major\n"
          ]
        },
        {
          "output_type": "display_data",
          "data": {
            "image/png": "[encoded data removed]",
            "text/plain": [
              "<Figure size 432x288 with 1 Axes>"
            ]
          },
          "metadata": {
            "needs_background": "light"
          }
        }
      ]
    },
    {
      "cell_type": "code",
      "metadata": {
        "id": "sFqN7D1Vyswl",
        "colab": {
          "base_uri": "https://localhost:8080/",
          "height": 338
        },
        "outputId": "6f7f97cb-b3de-48a6-eb81-1f9b0cb2b40e"
      },
      "source": [
        "#Attempting to predict Cassiopeia constellation\n",
        "\n",
        "cass_test = \"/content/gdrive/MyDrive/ConstellationClassifier/Dataset/Model_Data/Predict/casstest2.jpg\"\n",
        "img_cass = image.load_img(cass_test, target_size=(400, 400), color_mode='grayscale')\n",
        "\n",
        "plt.imshow(img_cass)\n",
        "img_cass = img_cass.resize((pixel_count,pixel_count))\n",
        "img_cass= np.asarray(img_cass)\n",
        "img_cass = img_cass/255\n",
        "img_cass = img_cass.reshape(1,pixel_count,pixel_count,1)\n",
        "print((cnn.predict(img_cass))) #3rh index is max so it is cassiopeia\n",
        "\n",
        "print(input_list[np.argmax(cnn.predict(img_cass))])"
      ],
      "execution_count": null,
      "outputs": [
        {
          "output_type": "stream",
          "name": "stdout",
          "text": [
            "[[7.5584077e-03 8.2762440e-04 6.8040723e-03 3.7819003e-03 7.1096212e-01\n",
            "  2.8223805e-03 5.9730485e-02 5.0988365e-03 1.0216508e-02 2.3613643e-02\n",
            "  9.1599621e-05 1.4669111e-01 1.4420652e-02 7.3806415e-03]]\n",
            "Cassiopeia\n"
          ]
        },
        {
          "output_type": "display_data",
          "data": {
            "image/png": "[encoded data removed]",
            "text/plain": [
              "<Figure size 432x288 with 1 Axes>"
            ]
          },
          "metadata": {
            "needs_background": "light"
          }
        }
      ]
    },
    {
      "cell_type": "code",
      "metadata": {
        "id": "YntCV9USIshO",
        "colab": {
          "base_uri": "https://localhost:8080/",
          "height": 303
        },
        "outputId": "91cac9d8-8e18-4564-dc50-374019772eb4"
      },
      "source": [
        "#Attempting to predict Cygnus constellation\n",
        "\n",
        "cyg_test = \"/content/gdrive/MyDrive/ConstellationClassifier/Dataset/Model_Data/Predict/cygnustest.jpg\"\n",
        "img_cyg = image.load_img(cyg_test, target_size=(400, 400), color_mode='grayscale')\n",
        "\n",
        "plt.imshow(img_cyg)\n",
        "img_cyg = img_cyg.resize((pixel_count,pixel_count))\n",
        "img_cyg= np.asarray(img_cyg)\n",
        "img_cyg = img_cyg/255\n",
        "img_cyg = img_cyg.reshape(1,pixel_count,pixel_count,1)\n",
        "print(np.argmax(cnn.predict(img_cyg))) #3rh index is max so it is \n",
        "\n",
        "print(input_list[np.argmax(cnn.predict(img_cyg))])"
      ],
      "execution_count": null,
      "outputs": [
        {
          "output_type": "stream",
          "name": "stdout",
          "text": [
            "5\n",
            "Cygnus\n"
          ]
        },
        {
          "output_type": "display_data",
          "data": {
            "image/png": "[encoded data removed]",
            "text/plain": [
              "<Figure size 432x288 with 1 Axes>"
            ]
          },
          "metadata": {
            "needs_background": "light"
          }
        }
      ]
    },
    {
      "cell_type": "code",
      "metadata": {
        "id": "oGrjmRnKcZko",
        "colab": {
          "base_uri": "https://localhost:8080/",
          "height": 338
        },
        "outputId": "b0bf628a-7393-4192-f56e-a1d4802598cc"
      },
      "source": [
        "#Attempting to predict Leo constellation\n",
        "\n",
        "path = \"/content/gdrive/MyDrive/ConstellationClassifier/Dataset/Model_Data/Predict/leotest.jpg\"\n",
        "image_test = image.load_img(path, target_size=(400, 400), color_mode='grayscale')\n",
        "\n",
        "plt.imshow(image_test)\n",
        "image_mod = image_test.resize((pixel_count,pixel_count))\n",
        "image_mod= np.asarray(image_mod)\n",
        "image_mod = image_mod/255\n",
        "image_mod = image_mod.reshape(1,pixel_count,pixel_count,1)\n",
        "print(cnn.predict(image_mod)) #3rh index is max so it is \n",
        "\n",
        "print(input_list[np.argmax(cnn.predict(image_mod))])"
      ],
      "execution_count": null,
      "outputs": [
        {
          "output_type": "stream",
          "name": "stdout",
          "text": [
            "[[9.3921508e-06 6.7791370e-05 1.5088602e-06 6.9923262e-04 1.9110059e-05\n",
            "  7.0003824e-07 9.9809986e-01 2.3416981e-06 1.3249528e-05 7.8141177e-04\n",
            "  5.4460133e-06 3.8949638e-06 1.9027597e-04 1.0571018e-04]]\n",
            "Leo\n"
          ]
        },
        {
          "output_type": "display_data",
          "data": {
            "image/png": "[encoded data removed]",
            "text/plain": [
              "<Figure size 432x288 with 1 Axes>"
            ]
          },
          "metadata": {
            "needs_background": "light"
          }
        }
      ]
    },
    {
      "cell_type": "code",
      "metadata": {
        "id": "x7bdbOouctns",
        "colab": {
          "base_uri": "https://localhost:8080/",
          "height": 338
        },
        "outputId": "953254a8-b7d1-4ce0-fbbd-8082cf948805"
      },
      "source": [
        "#Attempting to predict Lyra constellation\n",
        "\n",
        "path = \"/content/gdrive/MyDrive/ConstellationClassifier/Dataset/Model_Data/Predict/lyratest.jpg\"\n",
        "image_test = image.load_img(path, target_size=(400, 400), color_mode='grayscale')\n",
        "\n",
        "plt.imshow(image_test)\n",
        "image_mod = image_test.resize((pixel_count,pixel_count))\n",
        "image_mod= np.asarray(image_mod)\n",
        "image_mod = image_mod/255\n",
        "image_mod = image_mod.reshape(1,pixel_count,pixel_count,1)\n",
        "print(cnn.predict(image_mod)) #3rh index is max so it is \n",
        "\n",
        "print(input_list[np.argmax(cnn.predict(image_mod))])"
      ],
      "execution_count": null,
      "outputs": [
        {
          "output_type": "stream",
          "name": "stdout",
          "text": [
            "[[1.5006174e-08 5.6485716e-10 8.0503391e-09 2.5149805e-07 3.9124913e-08\n",
            "  1.0719229e-09 2.1079190e-06 9.9999678e-01 7.1367090e-09 1.8529989e-10\n",
            "  5.5249103e-08 4.1110226e-08 1.0630552e-10 6.7806366e-07]]\n",
            "Lyra\n"
          ]
        },
        {
          "output_type": "display_data",
          "data": {
            "image/png": "[encoded data removed]",
            "text/plain": [
              "<Figure size 432x288 with 1 Axes>"
            ]
          },
          "metadata": {
            "needs_background": "light"
          }
        }
      ]
    },
    {
      "cell_type": "code",
      "metadata": {
        "id": "yIh6ngY1JzFv",
        "colab": {
          "base_uri": "https://localhost:8080/",
          "height": 356
        },
        "outputId": "ed958cc2-2d0f-4037-d55b-17364b3772ec"
      },
      "source": [
        "#Attempting to predict Pisces constellation\n",
        "\n",
        "pis_test = \"/content/gdrive/MyDrive/ConstellationClassifier/Dataset/Model_Data/Predict/piscestest.jpg\"\n",
        "img_pis = image.load_img(pis_test, target_size=(400, 400), color_mode='grayscale')\n",
        "\n",
        "plt.imshow(img_pis)\n",
        "img_pis = img_pis.resize((pixel_count,pixel_count))\n",
        "img_pis= np.asarray(img_pis)\n",
        "img_pis = img_pis/255\n",
        "img_pis = img_pis.reshape(1,pixel_count,pixel_count,1)\n",
        "print(cnn.predict(img_pis)) #3rh index is max so it is \n",
        "\n",
        "print(input_list[np.argmax(cnn.predict(img_pis))])"
      ],
      "execution_count": null,
      "outputs": [
        {
          "output_type": "stream",
          "name": "stdout",
          "text": [
            "[[1.38945597e-05 2.47553271e-05 1.32300715e-06 2.48351246e-02\n",
            "  1.46661157e-04 1.46483342e-06 3.03620443e-04 1.41938415e-07\n",
            "  1.90324063e-05 9.59137201e-01 1.08236127e-05 3.62136307e-05\n",
            "  1.54636875e-02 6.11081714e-06]]\n",
            "Pisces\n"
          ]
        },
        {
          "output_type": "display_data",
          "data": {
            "image/png": "[encoded data removed]",
            "text/plain": [
              "<Figure size 432x288 with 1 Axes>"
            ]
          },
          "metadata": {
            "needs_background": "light"
          }
        }
      ]
    },
    {
      "cell_type": "code",
      "metadata": {
        "id": "QCAzO-4qrnr1",
        "colab": {
          "base_uri": "https://localhost:8080/",
          "height": 303
        },
        "outputId": "15b8959c-daa7-4898-fb59-7a89f4177893"
      },
      "source": [
        "#Attempting to predict Scorpio constellation\n",
        "\n",
        "scr_test = \"/content/gdrive/MyDrive/ConstellationClassifier/Dataset/Model_Data/Predict/scortest.jpg\"\n",
        "img_scr = image.load_img(scr_test, target_size=(400, 400), color_mode='grayscale')\n",
        "\n",
        "plt.imshow(img_scr)\n",
        "img_scr = img_scr.resize((pixel_count,pixel_count))\n",
        "img_scr = np.asarray(img_scr)\n",
        "img_scr = img_scr/255\n",
        "\n",
        "img_scr = img_scr.reshape(1,pixel_count,pixel_count,1)\n",
        "print(np.argmax(cnn.predict(img_scr))) #4th index is max so it is a scorpio\n",
        "print(input_list[np.argmax(cnn.predict(img_scr))])"
      ],
      "execution_count": null,
      "outputs": [
        {
          "output_type": "stream",
          "name": "stdout",
          "text": [
            "10\n",
            "Scorpius\n"
          ]
        },
        {
          "output_type": "display_data",
          "data": {
            "image/png": "[encoded data removed]",
            "text/plain": [
              "<Figure size 432x288 with 1 Axes>"
            ]
          },
          "metadata": {
            "needs_background": "light"
          }
        }
      ]
    },
    {
      "cell_type": "code",
      "metadata": {
        "id": "8N0jXRZSIgqG",
        "colab": {
          "base_uri": "https://localhost:8080/",
          "height": 303
        },
        "outputId": "2bfadd14-b0a4-4eae-905c-1c3c771ea9ac"
      },
      "source": [
        "#Attempting to predict Taurus constellation\n",
        "\n",
        "tau_test = \"/content/gdrive/MyDrive/ConstellationClassifier/Dataset/Model_Data/Predict/taurustest.jpg\"\n",
        "img_tau = image.load_img(tau_test, target_size=(400, 400), color_mode='grayscale')\n",
        "\n",
        "plt.imshow(img_tau)\n",
        "img_tau = img_tau.resize((pixel_count,pixel_count))\n",
        "img_tau= np.asarray(img_tau)\n",
        "img_tau = img_tau/255\n",
        "img_tau = img_tau.reshape(1,pixel_count,pixel_count,1)\n",
        "print(np.argmax(cnn.predict(img_tau))) #3rh index is max so it is \n",
        "\n",
        "print(input_list[np.argmax(cnn.predict(img_tau))])"
      ],
      "execution_count": null,
      "outputs": [
        {
          "output_type": "stream",
          "name": "stdout",
          "text": [
            "11\n",
            "Taurus\n"
          ]
        },
        {
          "output_type": "display_data",
          "data": {
            "image/png": "[encoded data removed]",
            "text/plain": [
              "<Figure size 432x288 with 1 Axes>"
            ]
          },
          "metadata": {
            "needs_background": "light"
          }
        }
      ]
    },
    {
      "cell_type": "code",
      "metadata": {
        "id": "0zqi_VxghJ9V",
        "colab": {
          "base_uri": "https://localhost:8080/",
          "height": 303
        },
        "outputId": "d3d09e0f-578b-4bee-cb9f-1bc54de9edaa"
      },
      "source": [
        "umi_test = \"/content/gdrive/MyDrive/ConstellationClassifier/Dataset/Model_Data/Predict/ursaminortest.jpg\"\n",
        "img_umi = image.load_img(umi_test, target_size=(400, 400), color_mode='grayscale')\n",
        "\n",
        "plt.imshow(img_umi)\n",
        "img_umi = img_umi.resize((pixel_count,pixel_count))\n",
        "img_umi= np.asarray(img_umi)\n",
        "img_umi = img_umi/255\n",
        "img_umi = img_umi.reshape(1,pixel_count,pixel_count,1)\n",
        "\n",
        "print(np.argmax(cnn.predict(img_umi))) #3rh index is max so it is \n",
        "\n",
        "print(input_list[np.argmax(cnn.predict(img_umi))])"
      ],
      "execution_count": null,
      "outputs": [
        {
          "output_type": "stream",
          "name": "stdout",
          "text": [
            "6\n",
            "Leo\n"
          ]
        },
        {
          "output_type": "display_data",
          "data": {
            "image/png": "[encoded data removed]",
            "text/plain": [
              "<Figure size 432x288 with 1 Axes>"
            ]
          },
          "metadata": {
            "needs_background": "light"
          }
        }
      ]
    },
    {
      "cell_type": "code",
      "metadata": {
        "id": "EulK4up7s4qz",
        "colab": {
          "base_uri": "https://localhost:8080/",
          "height": 303
        },
        "outputId": "f0ce12d3-814f-4695-9741-d3dd831cb866"
      },
      "source": [
        "umi_test = \"/content/gdrive/MyDrive/ConstellationClassifier/Dataset/Model_Data/Predict/virgotest.jpg\"\n",
        "img_umi = image.load_img(umi_test, target_size=(400, 400), color_mode='grayscale')\n",
        "\n",
        "plt.imshow(img_umi)\n",
        "img_umi = img_umi.resize((pixel_count,pixel_count))\n",
        "img_umi= np.asarray(img_umi)\n",
        "img_umi = img_umi/255\n",
        "img_umi = img_umi.reshape(1,pixel_count,pixel_count,1)\n",
        "\n",
        "print(np.argmax(cnn.predict(img_umi))) #3rh index is max so it is \n",
        "\n",
        "print(input_list[np.argmax(cnn.predict(img_umi))])"
      ],
      "execution_count": null,
      "outputs": [
        {
          "output_type": "stream",
          "name": "stdout",
          "text": [
            "13\n",
            "Virgo\n"
          ]
        },
        {
          "output_type": "display_data",
          "data": {
            "image/png": "[encoded data removed]",
            "text/plain": [
              "<Figure size 432x288 with 1 Axes>"
            ]
          },
          "metadata": {
            "needs_background": "light"
          }
        }
      ]
    },
    {
      "cell_type": "code",
      "metadata": {
        "id": "RQi_9-JPhRTF"
      },
      "source": [
        "from tensorflow import keras\n",
        "model = keras.models.load_model('./CNN_cnn.h5')\n",
        "\n",
        "print(cnn.predict(img_umi)) #3rh index is max so it is \n",
        "\n",
        "print(input_list[np.argmax(cnn.predict(img_umi))])"
      ],
      "execution_count": null,
      "outputs": []
    },
    {
      "cell_type": "markdown",
      "metadata": {
        "id": "n1mEzj_uCVgH"
      },
      "source": [
        "##Conclusion\n",
        "\n",
        "Overall, our model works pretty well :)\n",
        "\n",
        "If you would like to contribute to our dataset, go to https://foisy.co/ to draw images!"
      ]
    }
  ]
}